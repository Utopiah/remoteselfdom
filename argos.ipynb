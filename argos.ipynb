{
 "cells": [
  {
   "cell_type": "markdown",
   "id": "214b87ef-a163-441f-852a-7873b44c165d",
   "metadata": {},
   "source": [
    "### Argos web server via local Python notebook"
   ]
  },
  {
   "cell_type": "code",
   "execution_count": 9,
   "id": "953feb29-8044-4c76-8c18-823779fef73d",
   "metadata": {},
   "outputs": [],
   "source": [
    "import requests"
   ]
  },
  {
   "cell_type": "code",
   "execution_count": 15,
   "id": "cda70b06-0e34-4e64-aeed-cdf8c4a9132c",
   "metadata": {},
   "outputs": [],
   "source": [
    "url = 'http://localhost:8080/'"
   ]
  },
  {
   "cell_type": "code",
   "execution_count": 27,
   "id": "c33d548e-f474-4721-b13b-62c1b60299b4",
   "metadata": {},
   "outputs": [
    {
     "data": {
      "text/plain": [
       "'\"Argos web discovery\"'"
      ]
     },
     "execution_count": 27,
     "metadata": {},
     "output_type": "execute_result"
    }
   ],
   "source": [
    "requests.get(url).text"
   ]
  },
  {
   "cell_type": "code",
   "execution_count": 28,
   "id": "eb74095e-7e63-432e-a30a-8afd7273aebd",
   "metadata": {},
   "outputs": [],
   "source": [
    "import json"
   ]
  },
  {
   "cell_type": "code",
   "execution_count": 30,
   "id": "61917cdf-a4a3-4856-80a3-78a8a1f8423a",
   "metadata": {},
   "outputs": [
    {
     "data": {
      "text/plain": [
       "['exp_soc-0.1_out_s-1000_dyn',\n",
       " 'exp_soc-0.1_out_s-1001_dyn',\n",
       " 'exp_soc-0.1_out_s-1002_dyn',\n",
       " 'exp_soc-0.1_out_s-1003_dyn',\n",
       " 'exp_soc-0.1_out_s-1004_dyn',\n",
       " 'exp_soc-0.1_out_s-1005_dyn',\n",
       " 'exp_soc-0.1_out_s-1006_dyn',\n",
       " 'exp_soc-0.1_out_s-1007_dyn',\n",
       " 'exp_soc-0.1_out_s-1008_dyn',\n",
       " 'exp_soc-0.1_out_s-1009_dyn',\n",
       " 'exp_soc-0.9_out_s-1000_dyn',\n",
       " 'exp_soc-0.9_out_s-1001_dyn',\n",
       " 'exp_soc-0.9_out_s-1002_dyn',\n",
       " 'exp_soc-0.9_out_s-1003_dyn',\n",
       " 'exp_soc-0.9_out_s-1004_dyn',\n",
       " 'exp_soc-0.9_out_s-1005_dyn',\n",
       " 'exp_soc-0.9_out_s-1006_dyn',\n",
       " 'exp_soc-0.9_out_s-1007_dyn',\n",
       " 'exp_soc-0.9_out_s-1008_dyn',\n",
       " 'exp_soc-0.9_out_s-1009_dyn']"
      ]
     },
     "execution_count": 30,
     "metadata": {},
     "output_type": "execute_result"
    }
   ],
   "source": [
    "json.loads( requests.get(url+'processedindex').text )"
   ]
  },
  {
   "cell_type": "code",
   "execution_count": 32,
   "id": "2c584b17-4174-4d18-93e8-c77eceb22558",
   "metadata": {},
   "outputs": [
    {
     "name": "stdout",
     "output_type": "stream",
     "text": [
      "\"exp_soc-0.1_out_s-1020_dyn\"\n",
      "http://localhost:8080/remote?prosoc=0.1&seed=1020\n"
     ]
    }
   ],
   "source": [
    "ploads = {'prosoc':0.1,'seed':1020}\n",
    "r = requests.get(url+'remote',params=ploads)\n",
    "print(r.text)\n",
    "print(r.url)"
   ]
  },
  {
   "cell_type": "code",
   "execution_count": null,
   "id": "30fb3a78-5d87-4590-9207-89202d7630e0",
   "metadata": {},
   "outputs": [],
   "source": []
  }
 ],
 "metadata": {
  "kernelspec": {
   "display_name": "Python 3 (ipykernel)",
   "language": "python",
   "name": "python3"
  },
  "language_info": {
   "codemirror_mode": {
    "name": "ipython",
    "version": 3
   },
   "file_extension": ".py",
   "mimetype": "text/x-python",
   "name": "python",
   "nbconvert_exporter": "python",
   "pygments_lexer": "ipython3",
   "version": "3.7.3"
  }
 },
 "nbformat": 4,
 "nbformat_minor": 5
}
